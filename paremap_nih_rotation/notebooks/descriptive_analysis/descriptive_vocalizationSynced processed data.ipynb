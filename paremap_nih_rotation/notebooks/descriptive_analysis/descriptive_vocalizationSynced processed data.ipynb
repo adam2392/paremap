{
 "cells": [
  {
   "cell_type": "code",
   "execution_count": 1,
   "metadata": {
    "collapsed": true
   },
   "outputs": [],
   "source": [
    "# Import Necessary Libraries\n",
    "import numpy as np\n",
    "import scipy.io\n",
    "\n",
    "import matplotlib\n",
    "from matplotlib import *\n",
    "from matplotlib import pyplot as plt\n",
    "import itertools\n",
    "from mpl_toolkits.axes_grid1 import make_axes_locatable\n",
    "\n",
    "from sklearn.decomposition import PCA\n",
    "import scipy.stats as stats\n",
    "from scipy.spatial import distance as Distance\n",
    "\n",
    "# pretty charting\n",
    "import seaborn as sns\n",
    "sns.set_palette('muted')\n",
    "sns.set_style('darkgrid')\n",
    "\n",
    "%matplotlib inline"
   ]
  },
  {
   "cell_type": "code",
   "execution_count": 11,
   "metadata": {
    "collapsed": true
   },
   "outputs": [],
   "source": [
    "#### Extract wordpairs data into a dictionary for a subject/session/block\n",
    "#### dictionary{wordpair:{channels}}\n",
    "def extractSubjVocalizedData(subj, word):\n",
    "    # file directory for a subj/session/block\n",
    "    filedir = '../../condensed_data_' + subj + '/summary_vocalization/' + word\n",
    "    \n",
    "    # initialize data dictionary with meta data\n",
    "    data_dict = {}\n",
    "    data_dict['meta'] = {'subject': subj,\n",
    "                         'word': word}\n",
    "    \n",
    "    all_channel_mats = os.listdir(filedir)\n",
    "    for channel in all_channel_mats: # loop thru all channels\n",
    "        chan_file = filedir + '/' + channel\n",
    "\n",
    "        ## 00: load in data\n",
    "        data = scipy.io.loadmat(chan_file)\n",
    "        data = data['data']\n",
    "\n",
    "        ## 01: get the time point for probeword on\n",
    "        timeZero = data['timeZero'][0][0][0]\n",
    "\n",
    "        ## 02: get the time point of vocalization\n",
    "        vocalization = data['vocalization'][0][0][0]\n",
    "\n",
    "        ## 03: Get Power Matrix\n",
    "        power_matrix = data['powerMatZ'][0][0]\n",
    "\n",
    "        chan = channel.split('_')[0]\n",
    "\n",
    "        # convert channel data into a json dict\n",
    "        data_dict[chan] = {'timeZero': timeZero,\n",
    "                                      'timeVocalization':vocalization,\n",
    "                                      'powerMat': power_matrix}\n",
    "    return data_dict\n",
    " "
   ]
  },
  {
   "cell_type": "code",
   "execution_count": 12,
   "metadata": {
    "collapsed": false
   },
   "outputs": [
    {
     "name": "stdout",
     "output_type": "stream",
     "text": [
      "['BRICK', 'CLOCK', 'GLASS', 'JUICE', 'PANTS']\n",
      "['24', '25', '26', '27', '20', '21', '22', '23', '28', '29', '4', '8', '59', '58', '55', '54', '57', '56', '51', '50', '53', '52', '88', 'meta', '82', '83', '80', '81', '86', '87', '84', '85', '3', '7', '39', '38', '33', '32', '31', '30', '37', '36', '35', '34', '60', '61', '62', '63', '64', '65', '66', '67', '68', '69', '2', '6', '91', '90', '93', '92', '95', '94', '96', '11', '10', '13', '12', '15', '14', '17', '16', '19', '18', '89', '48', '49', '46', '47', '44', '45', '42', '43', '40', '41', '1', '5', '9', '77', '76', '75', '74', '73', '72', '71', '70', '79', '78']\n"
     ]
    }
   ],
   "source": [
    "######## Get list of files (.mat) we want to work with ########\n",
    "subj = 'NIH034' # change the directories if you want\n",
    "filedir = '../../condensed_data_' + subj + '/summary_vocalization/'\n",
    "targetWords = os.listdir(filedir)\n",
    "\n",
    "print targetWords\n",
    "\n",
    "for word in targetWords:\n",
    "    wordDir = filedir + word\n",
    "    \n",
    "    ## 01: Extract the data of every channel for this subject and targetWord\n",
    "    wordData = extractSubjVocalizedData(subj, word)\n",
    "    \n",
    "    print wordData.keys()\n",
    "    break  "
   ]
  },
  {
   "cell_type": "code",
   "execution_count": null,
   "metadata": {
    "collapsed": true
   },
   "outputs": [],
   "source": []
  }
 ],
 "metadata": {
  "kernelspec": {
   "display_name": "Python 2",
   "language": "python",
   "name": "python2"
  },
  "language_info": {
   "codemirror_mode": {
    "name": "ipython",
    "version": 2
   },
   "file_extension": ".py",
   "mimetype": "text/x-python",
   "name": "python",
   "nbconvert_exporter": "python",
   "pygments_lexer": "ipython2",
   "version": "2.7.11"
  }
 },
 "nbformat": 4,
 "nbformat_minor": 0
}
