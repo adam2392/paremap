{
 "cells": [
  {
   "cell_type": "code",
   "execution_count": 3,
   "metadata": {
    "collapsed": false
   },
   "outputs": [],
   "source": [
    "# Import Necessary Libraries\n",
    "import numpy as np\n",
    "import scipy as sp\n",
    "import scipy.io\n",
    "\n",
    "import sys\n",
    "sys.path.insert(0, '../')\n",
    "import robustSpectrogram\n",
    "\n",
    "import matplotlib\n",
    "from matplotlib import *\n",
    "from matplotlib import pyplot as plt\n",
    "import itertools\n",
    "\n",
    "from sklearn.decomposition import PCA\n",
    "import scipy.stats as stats\n",
    "from scipy.spatial import distance as Distance\n",
    "\n",
    "# pretty charting\n",
    "import seaborn as sns\n",
    "sns.set_palette('muted')\n",
    "sns.set_style('darkgrid')\n",
    "\n",
    "%matplotlib inline"
   ]
  },
  {
   "cell_type": "code",
   "execution_count": 4,
   "metadata": {
    "collapsed": false
   },
   "outputs": [],
   "source": [
    "#### Extract wordpairs data into a dictionary for a subject/session/block\n",
    "#### dictionary{wordpair:{channels}}\n",
    "def extractSubjSessionBlockData(subj, session, block):\n",
    "    # file directory for a subj/session/block\n",
    "    filedir = '../../condensed_data_' + subj + '/robustspec_blocks/' + session + '/' + block\n",
    "    wordpairs = os.listdir(filedir) \n",
    "    \n",
    "    # initialize data dictionary with meta data\n",
    "    data_dict = {}\n",
    "    data_dict['meta'] = {'subject': subj,\n",
    "                         'session': session,\n",
    "                         'block': block}\n",
    "    \n",
    "    for wordpair in wordpairs:    # loop thru all wordpairs\n",
    "        wordpair_dir = filedir + '/' + wordpair\n",
    "        all_channel_mats = os.listdir(wordpair_dir)\n",
    "        \n",
    "        data_dict[wordpair] = {}\n",
    "        for channel in all_channel_mats: # loop thru all channels\n",
    "            chan_file = wordpair_dir + '/' + channel\n",
    "\n",
    "            ## 00: load in data\n",
    "            data = scipy.io.loadmat(chan_file)\n",
    "            data = data['data']\n",
    "            \n",
    "            ## 01: get the time point for probeword on\n",
    "            timeZero = data['timeZero'][0][0][0]\n",
    "        \n",
    "            ## 02: get the time point of vocalization\n",
    "            vocalization = data['vocalization'][0][0][0]\n",
    "        \n",
    "            ## 03: Get Power Matrix\n",
    "            power_matrix = data['powerMatZ'][0][0]\n",
    "            \n",
    "            ## 04: Get time vector in (seconds)\n",
    "            time = data['time'][0][0][0]\n",
    "            \n",
    "            ## 05: Get freq vector (need to condense)\n",
    "            freq = data['freq'][0][0][0]\n",
    "            \n",
    "            chan = channel.split('_')[0]\n",
    "            \n",
    "            # convert channel data into a json dict\n",
    "            data_dict[wordpair][chan] = {'timeZero': timeZero,\n",
    "                                          'timeVocalization':vocalization,\n",
    "                                          'powerMat': power_matrix,\n",
    "                                          'time': time,\n",
    "                                          'freq': freq}\n",
    "            \n",
    "    data_dict['meta']['description'] = data['description'][0][0][0]\n",
    "            \n",
    "    return data_dict"
   ]
  },
  {
   "cell_type": "code",
   "execution_count": 6,
   "metadata": {
    "collapsed": false
   },
   "outputs": [
    {
     "name": "stdout",
     "output_type": "stream",
     "text": [
      "Analyzing subject:  NIH034\n",
      "The sessions:  ['session_1', 'session_2']\n",
      "The blocks are: \n",
      "['BLOCK_0', 'BLOCK_1', 'BLOCK_2', 'BLOCK_3', 'BLOCK_4', 'BLOCK_5']  \n",
      "\n",
      "All Descriptive Data is Here: \n",
      " the word pairs for this session/block: \n",
      "['BRICK_CLOCK', 'CLOCK_BRICK', 'GLASS_JUICE', 'JUICE_GLASS']\n",
      "Subject:  NIH034\n",
      "Session:  session_1\n",
      "Block:  BLOCK_0\n",
      "['BRICK_CLOCK', 'GLASS_JUICE', 'meta', 'JUICE_GLASS', 'CLOCK_BRICK']\n",
      "{'session': 'session_1', 'description': u'-1 seconds to 5 seconds after probeWordOn', 'block': 'BLOCK_0', 'subject': 'NIH034'} \n",
      "\n",
      "\n",
      "The type of data input for power matrix is:  <type 'numpy.ndarray'>\n",
      "The shape of each power matrix is (approximately):  (20, 100, 30)  events X frequency X time.\n",
      "The range of data goes from:  -22.519571925  to  6.99170016695\n",
      "There are  100  frequency points.\n",
      "There are  29  time points split  -1 seconds to 5 seconds after probeWordOn\n"
     ]
    }
   ],
   "source": [
    "######## Get list of files (.mat) we want to work with ########\n",
    "subj = 'NIH034' # change the directories if you want\n",
    "filedir = '../../condensed_data_' + subj + '/blocks/'\n",
    "sessions = os.listdir(filedir)\n",
    "sessions = sessions[2:] # change which sessions we want\n",
    "print \"Analyzing subject: \", subj\n",
    "print \"The sessions: \", sessions\n",
    "\n",
    "# loop through each session\n",
    "for idx, session in enumerate(sessions):\n",
    "    # the session directory\n",
    "    sessiondir = filedir + sessions[idx]\n",
    "    \n",
    "    # get all blocks for this session\n",
    "    blocks = os.listdir(sessiondir)\n",
    "    print \"The blocks are: \\n\", blocks, ' \\n'\n",
    "    \n",
    "    if len(blocks) != 6: # error check on the directories\n",
    "        print blocks\n",
    "        print(\"Error in the # of blocks. There should be 5.\")\n",
    "        break\n",
    "    \n",
    "    # loop through each block one at a time, analyze\n",
    "    for i in range(0, 1):\n",
    "        block = blocks[i]\n",
    "        block_dir = sessiondir + '/' + block\n",
    "        \n",
    "        # in each block, get list of word pairs from first and second block\n",
    "        wordpairs = os.listdir(block_dir)\n",
    "        print \"All Descriptive Data is Here: \\n the word pairs for this session/block: \\n\", wordpairs\n",
    "        a_wordpair = wordpairs[0]\n",
    "        \n",
    "        print 'Subject: ', subj\n",
    "        print 'Session: ', session\n",
    "        print 'Block: ', block\n",
    "        \n",
    "        block_data = extractSubjSessionBlockData(subj, session, block)\n",
    "        numchans = len(block_data['BRICK_CLOCK'].keys())\n",
    "        print block_data.keys()\n",
    "        \n",
    "        print block_data['meta'], '\\n\\n'\n",
    "        print \"The type of data input for power matrix is: \", type(block_data['BRICK_CLOCK']['1']['powerMat'])\n",
    "        print \"The shape of each power matrix is (approximately): \", block_data['BRICK_CLOCK']['1']['powerMat'].shape \\\n",
    "                , ' events X frequency X time.'\n",
    "        print \"The range of data goes from: \", np.amin(block_data['BRICK_CLOCK']['1']['powerMat']), \" to \", np.amax(block_data['BRICK_CLOCK']['1']['powerMat'])\n",
    "        \n",
    "        print \"There are \", len(block_data['BRICK_CLOCK']['1']['freq']), \" frequency points.\"\n",
    "        print \"There are \", len(block_data['BRICK_CLOCK']['1']['time']), \" time points split \", block_data['meta']['description']\n",
    "        \n",
    "        break\n",
    "\n",
    "    break"
   ]
  },
  {
   "cell_type": "markdown",
   "metadata": {
    "collapsed": true
   },
   "source": [
    "# Demonstration of Robust Spectrogram on Data"
   ]
  },
  {
   "cell_type": "code",
   "execution_count": 34,
   "metadata": {
    "collapsed": false
   },
   "outputs": [
    {
     "name": "stdout",
     "output_type": "stream",
     "text": [
      "(100, 30)\n",
      "(100,)\n",
      "(29,)\n"
     ]
    },
    {
     "data": {
      "image/png": "[encoded data removed]",
      "text/plain": [
       "<matplotlib.figure.Figure at 0x11d86aa90>"
      ]
     },
     "metadata": {},
     "output_type": "display_data"
    }
   ],
   "source": [
    "keys = block_data.keys()\n",
    "\n",
    "for key in keys:\n",
    "    for chan in np.arange(1, numchans):\n",
    "        data = np.mean(block_data[key][str(chan)]['powerMat'], axis=0)\n",
    "        freq = block_data[key][str(chan)]['freq']\n",
    "        time = block_data[key][str(chan)]['time']\n",
    "        timeZero = block\n",
    "        print data.shape\n",
    "        print freq.shape\n",
    "        print time.shape\n",
    "        \n",
    "#         data = data[]\n",
    "        plt.imshow(data, origin='lower', interpolation='none', cmap='jet', aspect='auto')\n",
    "        plt.ylim([0, 20])\n",
    "        plt.xlim([0, 7])\n",
    "        plt.clim(-5, 4)\n",
    "        plt.colorbar()\n",
    "#         xEst, freq, time, maxIter = robustSpectrogram()\n",
    "        \n",
    "        break\n",
    "    break"
   ]
  },
  {
   "cell_type": "code",
   "execution_count": 35,
   "metadata": {
    "collapsed": false
   },
   "outputs": [
    {
     "name": "stdout",
     "output_type": "stream",
     "text": [
      "[ 0.2  0.4  0.6  0.8  1.   1.2  1.4  1.6  1.8  2.   2.2  2.4  2.6  2.8  3.\n",
      "  3.2  3.4  3.6  3.8  4.   4.2  4.4  4.6  4.8  5.   5.2  5.4  5.6  5.8]\n",
      "100\n"
     ]
    }
   ],
   "source": [
    "\n",
    "print time\n",
    "print len(freq)"
   ]
  },
  {
   "cell_type": "code",
   "execution_count": null,
   "metadata": {
    "collapsed": true
   },
   "outputs": [],
   "source": []
  }
 ],
 "metadata": {
  "kernelspec": {
   "display_name": "Python 2",
   "language": "python",
   "name": "python2"
  },
  "language_info": {
   "codemirror_mode": {
    "name": "ipython",
    "version": 2
   },
   "file_extension": ".py",
   "mimetype": "text/x-python",
   "name": "python",
   "nbconvert_exporter": "python",
   "pygments_lexer": "ipython2",
   "version": "2.7.11"
  }
 },
 "nbformat": 4,
 "nbformat_minor": 0
}
