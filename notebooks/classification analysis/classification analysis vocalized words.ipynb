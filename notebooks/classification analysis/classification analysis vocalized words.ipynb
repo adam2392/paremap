{
 "cells": [
  {
   "cell_type": "markdown",
   "metadata": {},
   "source": [
    "# Vocalization Classification\n",
    "\n",
    "Using the spectral features, I will train a classifier based on the words: {BRICK, CLOCK, JUICE, PANTS, GLASS} and determine how well different classifiers perform using this data."
   ]
  },
  {
   "cell_type": "code",
   "execution_count": 46,
   "metadata": {
    "collapsed": true
   },
   "outputs": [],
   "source": [
    "# Import Necessary Libraries\n",
    "import numpy as np\n",
    "import scipy.io\n",
    "\n",
    "import csv\n",
    "import matplotlib\n",
    "from matplotlib import *\n",
    "from matplotlib import pyplot as plt\n",
    "import itertools\n",
    "from mpl_toolkits.axes_grid1 import make_axes_locatable\n",
    "\n",
    "from sklearn.decomposition import PCA\n",
    "import scipy.stats as stats\n",
    "from scipy.spatial import distance as Distance\n",
    "\n",
    "# pretty charting\n",
    "import seaborn as sns\n",
    "sns.set_palette('muted')\n",
    "sns.set_style('darkgrid')\n",
    "\n",
    "%matplotlib inline"
   ]
  },
  {
   "cell_type": "code",
   "execution_count": 11,
   "metadata": {
    "collapsed": true
   },
   "outputs": [],
   "source": [
    "#### Extract wordpairs data into a dictionary for a subject/session/block\n",
    "#### dictionary{wordpair:{channels}}\n",
    "def extractSubjVocalizedData(subj, word):\n",
    "    # file directory for a subj/session/block\n",
    "    filedir = '../../condensed_data_' + subj + '/summary_vocalization/' + word\n",
    "    \n",
    "    # initialize data dictionary with meta data\n",
    "    data_dict = {}\n",
    "    data_dict['meta'] = {'subject': subj,\n",
    "                         'word': word}\n",
    "    \n",
    "    all_channel_mats = os.listdir(filedir)\n",
    "    for channel in all_channel_mats: # loop thru all channels\n",
    "        chan_file = filedir + '/' + channel\n",
    "\n",
    "        ## 00: load in data\n",
    "        data = scipy.io.loadmat(chan_file)\n",
    "        data = data['data']\n",
    "\n",
    "        ## 01: get the time point for probeword on\n",
    "        timeZero = data['timeZero'][0][0][0]\n",
    "\n",
    "        ## 02: get the time point of vocalization\n",
    "        vocalization = data['vocalization'][0][0][0]\n",
    "\n",
    "        ## 03: Get Power Matrix\n",
    "        power_matrix = data['powerMatZ'][0][0]\n",
    "\n",
    "        chan = channel.split('_')[0]\n",
    "\n",
    "        # convert channel data into a json dict\n",
    "        data_dict[chan] = {'timeZero': timeZero,\n",
    "                                      'timeVocalization':vocalization,\n",
    "                                      'powerMat': power_matrix}\n",
    "    return data_dict\n",
    "\n",
    "def extractSubjVocalizedDataCat(subj, word):\n",
    "    # file directory for a subj/session/block\n",
    "    filedir = '../../condensed_data_' + subj + '/summary_vocalization/' + word\n",
    "    \n",
    "    # initialize data dictionary with meta data\n",
    "    data_dict = {}\n",
    "    data_dict['meta'] = {'subject': subj,\n",
    "                         'word': word}\n",
    "    \n",
    "    all_channel_mats = os.listdir(filedir)\n",
    "    for cdx, channel in enumerate(all_channel_mats): # loop thru all channels\n",
    "        chan_file = filedir + '/' + channel\n",
    "\n",
    "        ## 00: load in data\n",
    "        data = scipy.io.loadmat(chan_file)\n",
    "        data = data['data']\n",
    "\n",
    "        ## 01: get the time point for probeword on\n",
    "        timeZero = data['timeZero'][0][0][0]\n",
    "\n",
    "        ## 02: get the time point of vocalization\n",
    "        vocalization = data['vocalization'][0][0][0]\n",
    "\n",
    "        ## 03: Get Power Matrix\n",
    "        power_matrix = data['powerMatZ'][0][0]\n",
    "        power_matrix = power_matrix[:, :, timeZero:timeZero+25]\n",
    "        \n",
    "        chan = channel.split('_')[0]\n",
    "\n",
    "        # convert channel data into a json dict\n",
    "        if cdx == 0:\n",
    "            data_dict['data'] = {'timeZero': timeZero,\n",
    "                             'timeVocalization':vocalization,\n",
    "                             'powerMat': power_matrix}\n",
    "        else:\n",
    "            data_dict['data']['powerMat'] = np.concatenate((data_dict['data']['powerMat'], power_matrix), axis=1)\n",
    "        \n",
    "    return data_dict"
   ]
  },
  {
   "cell_type": "code",
   "execution_count": 13,
   "metadata": {
    "collapsed": false
   },
   "outputs": [
    {
     "name": "stdout",
     "output_type": "stream",
     "text": [
      "['BRICK', 'CLOCK', 'GLASS', 'JUICE', 'PANTS']\n"
     ]
    },
    {
     "name": "stderr",
     "output_type": "stream",
     "text": [
      "/Users/adam2392/anaconda/lib/python2.7/site-packages/ipykernel/__main__.py:62: DeprecationWarning: converting an array with ndim > 0 to an index will result in an error in the future\n"
     ]
    }
   ],
   "source": [
    "######## Get list of files (.mat) we want to work with ########\n",
    "subj = 'NIH034' # change the directories if you want\n",
    "filedir = '../../condensed_data_' + subj + '/summary_vocalization/'\n",
    "targetWords = os.listdir(filedir)\n",
    "\n",
    "print targetWords\n",
    "\n",
    "spectralData = {}\n",
    "for word in targetWords:\n",
    "    wordDir = filedir + word\n",
    "    \n",
    "    ## 01: Extract the data of every channel for this subject and targetWord\n",
    "    wordData = extractSubjVocalizedDataCat(subj, word)\n",
    "    spectralData[word] = wordData['data']['powerMat']"
   ]
  },
  {
   "cell_type": "code",
   "execution_count": 14,
   "metadata": {
    "collapsed": false,
    "scrolled": true
   },
   "outputs": [
    {
     "name": "stdout",
     "output_type": "stream",
     "text": [
      "['JUICE', 'GLASS', 'BRICK', 'PANTS', 'CLOCK']\n"
     ]
    }
   ],
   "source": [
    "print spectralData.keys()"
   ]
  },
  {
   "cell_type": "markdown",
   "metadata": {},
   "source": [
    "# Train Classifiers"
   ]
  },
  {
   "cell_type": "code",
   "execution_count": 15,
   "metadata": {
    "collapsed": true
   },
   "outputs": [],
   "source": [
    "from sklearn import cross_validation\n",
    "from sklearn.linear_model import LogisticRegression\n",
    "from sklearn.cross_validation import LeaveOneOut\n",
    "from sklearn.neighbors import KNeighborsClassifier\n",
    "from sklearn.ensemble import RandomForestClassifier\n",
    "from sklearn.svm import SVC\n",
    "from sklearn.discriminant_analysis import LinearDiscriminantAnalysis\n",
    "from sklearn.discriminant_analysis import QuadraticDiscriminantAnalysis\n"
   ]
  },
  {
   "cell_type": "code",
   "execution_count": 27,
   "metadata": {
    "collapsed": true
   },
   "outputs": [],
   "source": [
    "np.random.seed(12345678)  # for reproducibility, set random seed\n",
    "\n",
    "names = [\"Nearest Neighbors\", \"Linear SVM\", \"Random Forest\",\n",
    "         \"Linear Discriminant Analysis\", \"Quadratic Discriminant Analysis\",\n",
    "        \"Logistic Regression\"]\n",
    "\n",
    "classifiers = [\n",
    "    KNeighborsClassifier(3),\n",
    "    SVC(kernel=\"linear\", C=0.5),\n",
    "    RandomForestClassifier(max_depth=5, n_estimators=10, max_features=1),\n",
    "    LinearDiscriminantAnalysis(),\n",
    "    QuadraticDiscriminantAnalysis(),\n",
    "    LogisticRegression()]"
   ]
  },
  {
   "cell_type": "code",
   "execution_count": 24,
   "metadata": {
    "collapsed": false
   },
   "outputs": [
    {
     "name": "stdout",
     "output_type": "stream",
     "text": [
      "[['BRICK', 'CLOCK'], ['BRICK', 'GLASS'], ['BRICK', 'JUICE'], ['BRICK', 'PANTS'], ['CLOCK', 'GLASS'], ['CLOCK', 'JUICE'], ['CLOCK', 'PANTS'], ['GLASS', 'JUICE'], ['GLASS', 'PANTS'], ['JUICE', 'PANTS']]\n"
     ]
    }
   ],
   "source": [
    "comb = sum([map(list, itertools.combinations(targetWords, 2))], [])\n",
    "print comb"
   ]
  },
  {
   "cell_type": "code",
   "execution_count": 25,
   "metadata": {
    "collapsed": false
   },
   "outputs": [
    {
     "name": "stdout",
     "output_type": "stream",
     "text": [
      "(10, 4, 2)\n",
      "\n",
      "\n",
      "('Accuracy for pair: ', ['BRICK', 'CLOCK'])\n",
      "Accuracy of Nearest Neighbors: 0.55 (+/- 0.99)\n",
      "Accuracy of Linear SVM: 0.58 (+/- 0.99)\n",
      "Accuracy of Random Forest: 0.67 (+/- 0.94)\n",
      "Accuracy of Linear Discriminant Analysis: 0.62 (+/- 0.97)\n",
      "\n",
      "\n",
      "('Accuracy for pair: ', ['BRICK', 'GLASS'])\n",
      "Accuracy of Nearest Neighbors: 0.89 (+/- 0.63)\n",
      "Accuracy of Linear SVM: 0.90 (+/- 0.60)\n",
      "Accuracy of Random Forest: 0.88 (+/- 0.65)\n",
      "Accuracy of Linear Discriminant Analysis: 0.92 (+/- 0.54)\n",
      "\n",
      "\n",
      "('Accuracy for pair: ', ['BRICK', 'JUICE'])\n",
      "Accuracy of Nearest Neighbors: 0.82 (+/- 0.77)\n",
      "Accuracy of Linear SVM: 0.79 (+/- 0.81)\n",
      "Accuracy of Random Forest: 0.83 (+/- 0.75)\n",
      "Accuracy of Linear Discriminant Analysis: 0.84 (+/- 0.73)\n",
      "\n",
      "\n",
      "('Accuracy for pair: ', ['BRICK', 'PANTS'])\n",
      "Accuracy of Nearest Neighbors: 0.82 (+/- 0.76)\n",
      "Accuracy of Linear SVM: 0.82 (+/- 0.76)\n",
      "Accuracy of Random Forest: 0.83 (+/- 0.75)\n",
      "Accuracy of Linear Discriminant Analysis: 0.86 (+/- 0.70)\n",
      "\n",
      "\n",
      "('Accuracy for pair: ', ['CLOCK', 'GLASS'])\n",
      "Accuracy of Nearest Neighbors: 0.78 (+/- 0.83)\n",
      "Accuracy of Linear SVM: 0.79 (+/- 0.81)\n",
      "Accuracy of Random Forest: 0.78 (+/- 0.83)\n",
      "Accuracy of Linear Discriminant Analysis: 0.83 (+/- 0.75)\n",
      "\n",
      "\n",
      "('Accuracy for pair: ', ['CLOCK', 'JUICE'])\n",
      "Accuracy of Nearest Neighbors: 0.66 (+/- 0.95)\n",
      "Accuracy of Linear SVM: 0.70 (+/- 0.92)\n",
      "Accuracy of Random Forest: 0.71 (+/- 0.91)\n",
      "Accuracy of Linear Discriminant Analysis: 0.71 (+/- 0.91)\n",
      "\n",
      "\n",
      "('Accuracy for pair: ', ['CLOCK', 'PANTS'])\n",
      "Accuracy of Nearest Neighbors: 0.69 (+/- 0.93)\n",
      "Accuracy of Linear SVM: 0.74 (+/- 0.87)\n",
      "Accuracy of Random Forest: 0.71 (+/- 0.91)\n",
      "Accuracy of Linear Discriminant Analysis: 0.78 (+/- 0.83)\n",
      "\n",
      "\n",
      "('Accuracy for pair: ', ['GLASS', 'JUICE'])\n",
      "Accuracy of Nearest Neighbors: 0.57 (+/- 0.99)\n",
      "Accuracy of Linear SVM: 0.64 (+/- 0.96)\n",
      "Accuracy of Random Forest: 0.62 (+/- 0.97)\n",
      "Accuracy of Linear Discriminant Analysis: 0.67 (+/- 0.94)\n",
      "\n",
      "\n",
      "('Accuracy for pair: ', ['GLASS', 'PANTS'])\n",
      "Accuracy of Nearest Neighbors: 0.60 (+/- 0.98)\n",
      "Accuracy of Linear SVM: 0.60 (+/- 0.98)\n",
      "Accuracy of Random Forest: 0.60 (+/- 0.98)\n",
      "Accuracy of Linear Discriminant Analysis: 0.62 (+/- 0.97)\n",
      "\n",
      "\n",
      "('Accuracy for pair: ', ['JUICE', 'PANTS'])\n",
      "Accuracy of Nearest Neighbors: 0.48 (+/- 1.00)\n",
      "Accuracy of Linear SVM: 0.64 (+/- 0.96)\n",
      "Accuracy of Random Forest: 0.57 (+/- 0.99)\n",
      "Accuracy of Linear Discriminant Analysis: 0.67 (+/- 0.94)\n"
     ]
    }
   ],
   "source": [
    "accuracy=np.zeros((len(comb),len(classifiers),2))\n",
    "print accuracy.shape\n",
    "for i,pair in enumerate(comb): \n",
    "    # Create classes and feature vects\n",
    "    firstWordData = np.mean(spectralData[pair[0]], axis=2)\n",
    "    secondWordData = np.mean(spectralData[pair[1]], axis=2)\n",
    "\n",
    "    features = np.append(firstWordData, secondWordData, axis=0)\n",
    "    y = np.ones((firstWordData.shape[0],))\n",
    "    y = np.concatenate((y, np.zeros((secondWordData.shape[0],))))\n",
    "    \n",
    "    print \"\\n\"\n",
    "    print(\"Accuracy for pair: \", pair)\n",
    "    for idx, cla in enumerate(classifiers):\n",
    "        X_train, X_test, y_train, y_test = cross_validation.train_test_split(features, y, test_size=0.4, random_state=0)\n",
    "\n",
    "        clf = cla.fit(X_train, y_train)\n",
    "        loo = LeaveOneOut(len(features))\n",
    "        scores = cross_validation.cross_val_score(clf, features, y, cv=loo)\n",
    "        accuracy[i,idx,] = [scores.mean(), scores.std()]\n",
    "        print(\"Accuracy of %s: %0.2f (+/- %0.2f)\" % (names[idx], scores.mean(), scores.std() * 2))"
   ]
  },
  {
   "cell_type": "code",
   "execution_count": 50,
   "metadata": {
    "collapsed": false
   },
   "outputs": [],
   "source": [
    "################### SAVE NORMALIZED LOCATION DATA ###################\n",
    "# write new list_of_features to new txt file\n",
    "csvfile = \"classification_vocalizedWords.txt\"\n",
    "\n",
    "#Assuming res is a flat list\n",
    "with open(csvfile, \"w\") as output:\n",
    "    # write to new file the data\n",
    "    writer = csv.writer(output, lineterminator='\\n')\n",
    "    for i in range(0, len(accuracy)):\n",
    "        writer.writerow('')\n",
    "        writer.writerow(['Accuracy for pair: ', comb[i][:]])\n",
    "        for j in range(0, len(names)):\n",
    "            accuracyLog = [\"Accuracy of %s: %0.2f (+/- %0.2f)\" % (names[j], accuracy[i][j][0], accuracy[i][j][1])]\n",
    "            writer.writerow(accuracyLog)\n",
    "\n",
    "# for i in range(0, len(accuracy)): # loop through combinations\n",
    "#     print '\\n'\n",
    "#     print('Accuracy for pair: ', comb[i][:])\n",
    "#     for j in range(0, len(names)): # loop through classifiers\n",
    "#         print(\"Accuracy of %s: %0.2f (+/- %0.2f)\" % (names[j], accuracy[i][j][0], accuracy[i][j][1]))"
   ]
  },
  {
   "cell_type": "code",
   "execution_count": 44,
   "metadata": {
    "collapsed": false
   },
   "outputs": [
    {
     "name": "stdout",
     "output_type": "stream",
     "text": [
      "(10, 4, 2)\n"
     ]
    },
    {
     "data": {
      "image/png": "[encoded data removed]",
      "text/plain": [
       "<matplotlib.figure.Figure at 0x11a3bc4d0>"
      ]
     },
     "metadata": {},
     "output_type": "display_data"
    }
   ],
   "source": [
    "# Plotting accuracy\n",
    "print accuracy.shape\n",
    "plt.errorbar(np.arange(0,10), accuracy[:,0,0], yerr = accuracy[:,0,1], hold=True, label=names[0])\n",
    "plt.errorbar(np.arange(0,10), accuracy[:,1,0], yerr = accuracy[:,1,1], color='green', hold=True, label=names[1])\n",
    "plt.errorbar(np.arange(0,10), accuracy[:,2,0], yerr = accuracy[:,2,1], color='red', hold=True, label=names[2])\n",
    "plt.errorbar(np.arange(0,10), accuracy[:,3,0], yerr = accuracy[:,3,1], color='black', hold=True, label=names[3])\n",
    "# plt.xscale('log')\n",
    "plt.xlabel('Combination Of Vocalization Words')\n",
    "plt.ylabel('accuracy')\n",
    "plt.title('Accuracty of Vocalization classification Under Real Data')\n",
    "plt.axhline(1, color='red', linestyle='--')\n",
    "plt.axhline(0.9, color='red', linestyle='--')\n",
    "plt.legend(loc='center left', bbox_to_anchor=(1, 0.5))\n",
    "plt.show()"
   ]
  },
  {
   "cell_type": "markdown",
   "metadata": {},
   "source": [
    "# Classification On Groups\n",
    "\n",
    "Split the words into 's' sounding words, like glass, juice, pants and 'ck' sounding words like brick and clock."
   ]
  },
  {
   "cell_type": "code",
   "execution_count": null,
   "metadata": {
    "collapsed": false
   },
   "outputs": [
    {
     "name": "stdout",
     "output_type": "stream",
     "text": [
      "(6, 2)\n",
      "['JUICE', 'GLASS', 'BRICK', 'PANTS', 'CLOCK']\n",
      "['ckGroup', 'sGroup']\n",
      "Accuracy between 's' and 'ck' sounding words: \n",
      "Accuracy of Nearest Neighbors: 0.79 (+/- 0.81)"
     ]
    }
   ],
   "source": [
    "names = [\"Nearest Neighbors\", \"Linear SVM\", \"Random Forest\",\n",
    "         \"Linear Discriminant Analysis\", \"Quadratic Discriminant Analysis\",\n",
    "        \"Logistic Regression\"]\n",
    "\n",
    "classifiers = [\n",
    "    KNeighborsClassifier(3),\n",
    "    SVC(kernel=\"linear\", C=0.5),\n",
    "    RandomForestClassifier(max_depth=5, n_estimators=10, max_features=1),\n",
    "    LinearDiscriminantAnalysis(),\n",
    "    QuadraticDiscriminantAnalysis(),\n",
    "    LogisticRegression()]\n",
    "\n",
    "accuracy=np.zeros((len(classifiers),2))\n",
    "print accuracy.shape\n",
    "\n",
    "sGroup = ['JUICE', 'GLASS', 'PANTS']\n",
    "ckGroup = ['PANTS', 'CLOCK']\n",
    "print spectralData.keys()\n",
    "groupedSpectralData = {}\n",
    "groupedSpectralData['sGroup'] = np.array(())\n",
    "groupedSpectralData['ckGroup'] = np.array(())\n",
    "for word in spectralData.keys():\n",
    "    if word in sGroup:\n",
    "        if groupedSpectralData['sGroup'].size==0:\n",
    "            groupedSpectralData['sGroup'] = spectralData[word]\n",
    "        else:\n",
    "            groupedSpectralData['sGroup'] = np.concatenate((groupedSpectralData['sGroup'], spectralData[word]), axis=0)\n",
    "    elif word in ckGroup:\n",
    "        if groupedSpectralData['ckGroup'].size==0:\n",
    "            groupedSpectralData['ckGroup'] = spectralData[word]\n",
    "        else:\n",
    "            groupedSpectralData['ckGroup'] = np.concatenate((groupedSpectralData['sGroup'], spectralData[word]), axis=0)\n",
    "print groupedSpectralData.keys()\n",
    "\n",
    "\n",
    "# Create classes and feature vects\n",
    "firstGroupData = np.mean(groupedSpectralData['sGroup'], axis=2)\n",
    "secondGroupData = np.mean(groupedSpectralData['ckGroup'], axis=2)\n",
    "\n",
    "features = np.append(firstGroupData, secondGroupData, axis=0)\n",
    "y = np.ones((firstGroupData.shape[0],))\n",
    "y = np.concatenate((y, np.zeros((secondGroupData.shape[0],))))\n",
    "\n",
    "print \"Accuracy between 's' and 'ck' sounding words: \"\n",
    "for idx, cla in enumerate(classifiers):\n",
    "    X_train, X_test, y_train, y_test = cross_validation.train_test_split(features, y, test_size=0.4, random_state=0)\n",
    "\n",
    "    clf = cla.fit(X_train, y_train)\n",
    "    loo = LeaveOneOut(len(features))\n",
    "    scores = cross_validation.cross_val_score(clf, features, y, cv=loo)\n",
    "    accuracy[idx,] = [scores.mean(), scores.std()]\n",
    "    print(\"Accuracy of %s: %0.2f (+/- %0.2f)\" % (names[idx], scores.mean(), scores.std() * 2))"
   ]
  },
  {
   "cell_type": "code",
   "execution_count": null,
   "metadata": {
    "collapsed": true
   },
   "outputs": [],
   "source": []
  }
 ],
 "metadata": {
  "kernelspec": {
   "display_name": "Python 2",
   "language": "python",
   "name": "python2"
  },
  "language_info": {
   "codemirror_mode": {
    "name": "ipython",
    "version": 2
   },
   "file_extension": ".py",
   "mimetype": "text/x-python",
   "name": "python",
   "nbconvert_exporter": "python",
   "pygments_lexer": "ipython2",
   "version": "2.7.11"
  }
 },
 "nbformat": 4,
 "nbformat_minor": 0
}
