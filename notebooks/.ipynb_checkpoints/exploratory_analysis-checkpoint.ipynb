{
 "cells": [
  {
   "cell_type": "markdown",
   "metadata": {},
   "source": [
    "# Exploratory Response Times\n",
    "Looking at spectrograms of different triggers with different response times. My hypothesis is that there is some difference in power depending on how the long it takes for the patient to vocalize a response. This would be related to sort of inherent memory vs. actively searching for the memory.\n",
    "\n",
    "The different response times can all be categorized by looking at the events struct. Split it correspondingly by different probe words, targetwords, or word match pairs and analyze the distribution. \n",
    "\n",
    "I will determine if the distributions of response times for different probewords are the same, and for different unique word match pairs.\n",
    "\n",
    "Things to Change: \n",
    "1. Patient dir if you analyze a new patient"
   ]
  },
  {
   "cell_type": "code",
   "execution_count": 50,
   "metadata": {
    "collapsed": true
   },
   "outputs": [],
   "source": [
    "# Import Necessary Libraries\n",
    "import numpy as np\n",
    "import os, csv, json\n",
    "import math\n",
    "import random\n",
    "\n",
    "import itertools\n",
    "import matplotlib\n",
    "from matplotlib import *\n",
    "from matplotlib import pyplot as plt\n",
    "\n",
    "import scipy.io\n",
    "from sklearn.decomposition import PCA\n",
    "\n",
    "# pretty charting\n",
    "import seaborn as sns\n",
    "sns.set_palette('muted')\n",
    "sns.set_style('darkgrid')\n",
    "\n",
    "%matplotlib inline"
   ]
  },
  {
   "cell_type": "code",
   "execution_count": 23,
   "metadata": {
    "collapsed": false
   },
   "outputs": [
    {
     "name": "stdout",
     "output_type": "stream",
     "text": [
      "There were  49  number of incorrect events.\n",
      "The list of incorrect probe words: \n",
      "{\"[u'PANTS']\": 7, \"[u'JUICE']\": 8, \"[u'BRICK']\": 12, \"[u'CLOCK']\": 13, \"[u'GLASS']\": 9}\n",
      "\n",
      "This is the length of the events struct with only correct responses:  1431\n",
      "There are  96  files inside our directory\n",
      "This should match the number of channels.\n"
     ]
    }
   ],
   "source": [
    "######## Get list of files (.mat) we want to work with ########\n",
    "filedir = '../condensed_data/freq_probeTovocal_binned/'\n",
    "files = []\n",
    "\n",
    "for file in os.listdir(filedir):\n",
    "    if file.endswith('.mat'):\n",
    "        files.append(file)\n",
    "\n",
    "######## Load in EVENTS struct to find correct events\n",
    "eventsDir = '../NIH034/behavioral/paRemap/' + 'events.mat'\n",
    "\n",
    "events = scipy.io.loadmat(eventsDir)\n",
    "events = events['events']\n",
    "\n",
    "# print number of incorrect events and which words they belonged to\n",
    "incorrectIndices = events['isCorrect'] == 0\n",
    "incorrectEvents = events[incorrectIndices]\n",
    "incorrectWords = []\n",
    "wordList = {}\n",
    "for i in range(0, len(incorrectEvents)):\n",
    "    incorrectWords.append(incorrectEvents['probeWord'][i][0])\n",
    "\n",
    "for word in np.unique(incorrectEvents['probeWord']):\n",
    "    wordList[str(word)] = sum(incorrectWords == word)\n",
    "    \n",
    "print \"There were \",len(incorrectEvents), \" number of incorrect events.\"\n",
    "print \"The list of incorrect probe words: \\n\", wordList\n",
    "# \n",
    "# get only correct events\n",
    "correctIndices = events['isCorrect'] == 1\n",
    "events = events[correctIndices]\n",
    "\n",
    "print \"\\nThis is the length of the events struct with only correct responses: \", len(events)\n",
    "print \"There are \", len(files), \" files inside our directory\"\n",
    "print \"This should match the number of channels.\""
   ]
  },
  {
   "cell_type": "markdown",
   "metadata": {
    "collapsed": true
   },
   "source": [
    "# Extract Important Events Information\n",
    "Response Times, etc."
   ]
  },
  {
   "cell_type": "code",
   "execution_count": 29,
   "metadata": {
    "collapsed": false
   },
   "outputs": [
    {
     "name": "stdout",
     "output_type": "stream",
     "text": [
      "[('experiment', 'O'), ('subject', 'O'), ('sessionName', 'O'), ('sessionNum', 'O'), ('type', 'O'), ('msoffset', 'O'), ('mstime', 'O'), ('probeWord', 'O'), ('targetWord', 'O'), ('isCorrect', 'O'), ('blocknumber', 'O'), ('miniblocknumber', 'O'), ('matchOnTime', 'O'), ('probeOffTime', 'O'), ('fixationOnTime', 'O'), ('fixationOffTime', 'O'), ('responseTime', 'O'), ('vocalizedWord', 'O'), ('eegfile', 'O'), ('eegoffset', 'O')]\n"
     ]
    }
   ],
   "source": [
    "# convert responsetime into a list\n",
    "responseTimes = []\n",
    "for i in range(0, len(events)):\n",
    "    responseTimes.append(events['responseTime'][i][0][0])\n",
    "#     print events['responseTime']\n",
    "#     break\n",
    "responseTimes = np.array(responseTimes)\n",
    "    \n",
    "# create a dictionary of response times for each probe word\n",
    "wordResponseTimes = {}\n",
    "for word in np.unique(incorrectEvents['probeWord']):\n",
    "    wordIndices = events['probeWord'] == word\n",
    "    mask = np.where(wordIndices==True)[0]\n",
    "    wordResponseTimes[str(word[0])] = responseTimes[mask]/1000\n",
    "print events.dtype"
   ]
  },
  {
   "cell_type": "code",
   "execution_count": 4,
   "metadata": {
    "collapsed": false
   },
   "outputs": [
    {
     "name": "stdout",
     "output_type": "stream",
     "text": [
      "The final feature dictionary will have features from the \n",
      "following channels:  ['1', '10', '11', '12', '13', '14', '15', '16', '17', '18', '19', '2', '20', '21', '22', '23', '24', '25', '26', '27', '28', '29', '3', '30', '31', '32', '33', '34', '35', '36', '37', '38', '39', '4', '40', '41', '42', '43', '44', '45', '46', '47', '48', '49', '5', '50', '51', '52', '53', '54', '55', '56', '57', '58', '59', '6', '60', '61', '62', '63', '64', '65', '66', '67', '68', '69', '7', '70', '71', '72', '73', '74', '75', '76', '77', '78', '79', '8', '80', '81', '82', '83', '84', '85', '86', '87', '88', '89', '9', '90', '91', '92', '93', '94', '95', '96']\n",
      "Each channel has these features:  ['JUICE_GLASS', 'BRICK_JUICE', 'CLOCK_GLASS', 'PANTS_GLASS', 'GLASS_JUICE', 'BRICK_CLOCK', 'GLASS_PANTS', 'PANTS_BRICK', 'GLASS_CLOCK', 'JUICE_BRICK', 'BRICK_PANTS', 'CLOCK_BRICK']\n",
      "With shape of:  (7,)\n"
     ]
    }
   ],
   "source": [
    "################## LOOPING THROUGH EACH CHANNEL ##################\n",
    "feature_dict = {} # the dict to hold the feature matrix for each channel\n",
    "\n",
    "for f in range(0, len(files)):\n",
    "    #################### Set up data from the channel's mat file ####################\n",
    "    # Go through each .mat file\n",
    "    mat_file = filedir + files[f]\n",
    "\n",
    "    data = scipy.io.loadmat(mat_file)\n",
    "    data = data['data']\n",
    "\n",
    "\n",
    "    ## 01: reformat unique trigger types\n",
    "    uniqueTrigTypes = data['uniqueTrigType'][0][0][0]\n",
    "    buff = []\n",
    "    for trig in uniqueTrigTypes:\n",
    "        buff.append(str(trig[0]))\n",
    "    uniqueTrigTypes = buff\n",
    "\n",
    "    ## 02: reformat trigger types\n",
    "    trigTypes = data['trigType'][0][0][0]\n",
    "    buff = []\n",
    "    for trig in trigTypes:\n",
    "        buff.append(str(trig[0]))\n",
    "    trigTypes = buff\n",
    "\n",
    "    ## 03: get channel number\n",
    "    chanNum = data['chanNum'][0][0][0][0]\n",
    "\n",
    "    ## 04: get channel string\n",
    "    chanStr = data['chanStr'][0][0][0]\n",
    "\n",
    "    ## 05: get power matrix Z is a #events X #freq. bands\n",
    "    matrix = data['powerMatZ'][0][0]\n",
    "\n",
    "    ## 06: get freq band ticks and ylabels\n",
    "    freqBandYtick = data['freqBandYtick'][0][0][0]\n",
    "    freqBandYlabel = data['freqBandYlabel'][0][0][0]\n",
    "    buff = []\n",
    "    for freq in freqBandYlabel:\n",
    "        buff.append(str(freq[0]))\n",
    "    freqBandYlabel = buff\n",
    "\n",
    "    #################### Getting those events and the corresonding averaged powermat  ####################\n",
    "    ## Get events of interest\n",
    "    TRIGGER_TYPES = uniqueTrigTypes\n",
    "    probeWords = events['probeWord']\n",
    "    targetWords = events['targetWord']\n",
    "\n",
    "    # number of frequency bins\n",
    "    num_freqs = len(freqBandYtick) - 1\n",
    "    # total number of \"data centers\"\n",
    "#     num_features = len(TRIGGER_TYPES)*len(tempTargets)\n",
    "    features = {}\n",
    "    \n",
    "    for i in range(0,len(TRIGGER_TYPES)): # LOOP THRU EACH PROBEWORD\n",
    "        current_trig = TRIGGER_TYPES[i]\n",
    "\n",
    "        ## 01: get indices of the current trigger and get those events\n",
    "        tempInd = events['probeWord'] == current_trig\n",
    "        tempEvents = events[tempInd]\n",
    "        tempTargets = np.unique(tempEvents['targetWord'])\n",
    "    \n",
    "        ## 02: go through each target word for this probeword\n",
    "        for j in range(0, len(tempTargets)):\n",
    "            targetWord = tempTargets[j][0] # set target word\n",
    "    \n",
    "            # get the indices of the events we want probe/target match\n",
    "            eventInd = events['probeWord'] == current_trig\n",
    "            eventInd2 = events['targetWord'] == targetWord\n",
    "            eventInd = np.array([any(tup) for tup in zip(eventInd, eventInd2)])\n",
    "\n",
    "            # get the matrix we want and average across all events \n",
    "            thisMat = np.mean(matrix[eventInd,:], axis=0)\n",
    "            # -> a 7x1 vector that represents this match for this channel \n",
    "            \n",
    "            feature_key = str(current_trig) + '_' + str(targetWord)\n",
    "            \n",
    "            features[feature_key] = thisMat\n",
    "            # clear vars\n",
    "            eventInd2 = 0\n",
    "    \n",
    "    # turn features into np array and append to a dict of the features\n",
    "#     features = np.array(features)\n",
    "    feature_dict[str(f+1)] = features\n",
    "\n",
    "print \"The final feature dictionary will have features from the \"\n",
    "print \"following channels: \", sorted(feature_dict.keys())\n",
    "print \"Each channel has these features: \", feature_dict['2'].keys()\n",
    "print \"With shape of: \", feature_dict['2']['JUICE_GLASS'].shape"
   ]
  },
  {
   "cell_type": "code",
   "execution_count": 31,
   "metadata": {
    "collapsed": false
   },
   "outputs": [
    {
     "name": "stdout",
     "output_type": "stream",
     "text": [
      "3830.65771484\n",
      "676.918457031\n",
      "[ 1739.0793457   1396.83227539  2609.80737305 ...,  1144.66210938\n",
      "  1151.40600586  1184.86621094]\n"
     ]
    },
    {
     "data": {
      "text/plain": [
       "(array([ 165.,  745.,  317.,  104.,   45.,   21.,   16.,   10.,    6.,    2.]),\n",
       " array([  676.91845703,   992.29238281,  1307.66630859,  1623.04023438,\n",
       "         1938.41416016,  2253.78808594,  2569.16201172,  2884.5359375 ,\n",
       "         3199.90986328,  3515.28378906,  3830.65771484]),\n",
       " <a list of 10 Patch objects>)"
      ]
     },
     "execution_count": 31,
     "metadata": {},
     "output_type": "execute_result"
    },
    {
     "data": {
      "image/png": "[encoded data removed]",
      "text/plain": [
       "<matplotlib.figure.Figure at 0x11de03b10>"
      ]
     },
     "metadata": {},
     "output_type": "display_data"
    }
   ],
   "source": [
    "# test = responseTimes != 0\n",
    "print max(responseTimes)\n",
    "print min(responseTimes)\n",
    "print responseTimes\n",
    "plt.hist(responseTimes)"
   ]
  },
  {
   "cell_type": "code",
   "execution_count": 38,
   "metadata": {
    "collapsed": false
   },
   "outputs": [
    {
     "name": "stdout",
     "output_type": "stream",
     "text": [
      "['JUICE', 'GLASS', 'BRICK', 'PANTS', 'CLOCK']\n"
     ]
    },
    {
     "data": {
      "image/png": "[encoded data removed]",
      "text/plain": [
       "<matplotlib.figure.Figure at 0x12005c110>"
      ]
     },
     "metadata": {},
     "output_type": "display_data"
    }
   ],
   "source": [
    "print wordResponseTimes.keys()\n",
    "plt.figure(figsize=(10, 10))\n",
    "i = 1\n",
    "for key in wordResponseTimes.keys():\n",
    "    responseTime = wordResponseTimes[key]\n",
    "    plt.subplot(5, 1, i)\n",
    "    plt.hist(responseTime)\n",
    "    plt.title(\"For Probeword: \" + key)\n",
    "    i += 1\n",
    "plt.tight_layout()"
   ]
  },
  {
   "cell_type": "markdown",
   "metadata": {},
   "source": [
    "# Testing Differences in Response Time Distribution\n",
    "Here, I use the nonparametric Kolmogorov-smirnov test statistic to determine whether the various response time distributions are the same, or not. \n",
    "\n",
    "**Should I run a quantile filter? Since there seems to be a decent amount of outliers in terms of response times**"
   ]
  },
  {
   "cell_type": "code",
   "execution_count": 56,
   "metadata": {
    "collapsed": false
   },
   "outputs": [
    {
     "name": "stdout",
     "output_type": "stream",
     "text": [
      "['JUICE', 'GLASS', 'BRICK', 'PANTS', 'CLOCK']\n",
      "(242,)\n",
      "(361,)\n",
      "(358,)\n",
      "(243,)\n",
      "(227,)\n",
      "Ks_2sampResult(statistic=0.10514869165083224, pvalue=0.075800257106005922)\n",
      "Ks_2sampResult(statistic=0.15864074980377674, pvalue=0.0011924007999215126)\n",
      "Ks_2sampResult(statistic=0.12985069550726119, pvalue=0.030415943669708533)\n",
      "Ks_2sampResult(statistic=0.21411716425566846, pvalue=2.4710818977871132e-06)\n",
      "Ks_2sampResult(statistic=0.095638779685955355, pvalue=0.1336845235499069)\n",
      "Ks_2sampResult(statistic=0.099942645856468282, pvalue=0.11619386767953627)\n",
      "Ks_2sampResult(statistic=0.22985499620854544, pvalue=7.8317130441076093e-09)\n",
      "Ks_2sampResult(statistic=0.29809514434080675, pvalue=2.1998681227156155e-11)\n"
     ]
    }
   ],
   "source": [
    "print wordResponseTimes.keys()\n",
    "\n",
    "for key in wordResponseTimes.keys():\n",
    "    print wordResponseTimes[key].shape\n",
    "\n",
    "juice = wordResponseTimes['JUICE']\n",
    "glass = wordResponseTimes['GLASS']\n",
    "brick = wordResponseTimes['BRICK']\n",
    "pants = wordResponseTimes['PANTS']\n",
    "clock = wordResponseTimes['CLOCK']\n",
    "\n",
    "# Ks 1 sample test\n",
    "print scipy.stats.ks_2samp(juice, glass)\n",
    "print scipy.stats.ks_2samp(juice, brick)\n",
    "print scipy.stats.ks_2samp(juice, pants)\n",
    "print scipy.stats.ks_2samp(glass, pants)\n",
    "print scipy.stats.ks_2samp(brick, pants)\n",
    "print scipy.stats.ks_2samp(glass, clock)\n",
    "print scipy.stats.ks_2samp(brick, glass)\n",
    "print scipy.stats.ks_2samp(brick, clock)"
   ]
  },
  {
   "cell_type": "markdown",
   "metadata": {},
   "source": [
    "# Testing Simulation For KS Test Statistic\n",
    "Here, I demonstrate the power of the Kolmogorov-Smirnov Test Statistic with varying sample sizes. \n",
    "\n",
    "Ideally we would have around 1000 samples per each distribution, but that is not feasible. \n",
    "\n",
    "Other ways we could improve the power of this test would be to bootstrap our sample data to increase our overall sample size."
   ]
  },
  {
   "cell_type": "code",
   "execution_count": 48,
   "metadata": {
    "collapsed": true
   },
   "outputs": [],
   "source": [
    "# define number of subjects per class\n",
    "np.random.seed(123456789)  # for reproducibility, set random seed\n",
    "\n",
    "S = np.array((4, 6, 8, 10, 14, 18, 20, 26, 30, 40,\n",
    "              50, 60, 70, 80, 100, 120, 150, 200, 250,\n",
    "              300, 400, 500, 750, 1000, 1500, 2000,\n",
    "              3000, 5000))\n",
    "alpha = 0.05\n",
    "N = 50 # # samples at each iteration"
   ]
  },
  {
   "cell_type": "code",
   "execution_count": 51,
   "metadata": {
    "collapsed": false
   },
   "outputs": [
    {
     "name": "stderr",
     "output_type": "stream",
     "text": [
      "/Users/adam2392/anaconda/lib/python2.7/site-packages/scipy/stats/morestats.py:2384: UserWarning: Warning: sample size too small for normal approximation.\n",
      "  warnings.warn(\"Warning: sample size too small for normal approximation.\")\n"
     ]
    }
   ],
   "source": [
    "pow_null = np.array((), dtype=np.dtype('float64'))\n",
    "powks_null = np.array((), dtype=np.dtype('float64'))\n",
    "powks2_null = np.array((), dtype=np.dtype('float64'))\n",
    "\n",
    "# compute this statistic for various sizes of datasets\n",
    "for s in S:\n",
    "    # compute this many times for each operating point to get average\n",
    "    kspval = np.array((), dtype=np.dtype('float64')) \n",
    "    ks2pval = np.array((), dtype=np.dtype('float64')) \n",
    "    \n",
    "    for _ in itertools.repeat(None,N):\n",
    "        g0 = np.random.uniform(0, 1, s) # (null)\n",
    "        g1 = np.random.uniform(0, 1, s) # null\n",
    "        \n",
    "        # compute Kolmogorov-test statistic on generated data\n",
    "        ks2test_stat = scipy.stats.ks_2samp(g0, g1)\n",
    "        ks2pval = np.append(pval, ks2test_stat.pvalue)\n",
    "        \n",
    "        kstest_stat = scipy.stats.kstest(g0, 'uniform', args=(0,1))\n",
    "        kspval = np.append(pval, kstest_stat.pvalue)       \n",
    "    \n",
    "    # record average p value at operating point\n",
    "    powks_null = np.append(powks_null, np.sum(1.0*(kspval < alpha))/N)\n",
    "    powks2_null = np.append(powks2_null, np.sum(1.0*(ks2pval < alpha))/N)"
   ]
  },
  {
   "cell_type": "code",
   "execution_count": 52,
   "metadata": {
    "collapsed": true
   },
   "outputs": [],
   "source": [
    "pow_alt = np.array((), dtype=np.dtype('float64'))\n",
    "powks_alt = np.array((), dtype=np.dtype('float64'))\n",
    "powks2_alt = np.array((), dtype=np.dtype('float64'))\n",
    "\n",
    "# compute this statistic for various sizes of datasets\n",
    "for s in S:\n",
    "\n",
    "    # compute this many times for each operating point to get average    \n",
    "    kspval = np.array((), dtype=np.dtype('float64')) \n",
    "    ks2pval = np.array((), dtype=np.dtype('float64')) \n",
    "    \n",
    "    for _ in itertools.repeat(None,N):\n",
    "        g0 = np.random.uniform(0.2, 0.9, s) # (null)\n",
    "        g1 = np.random.uniform(0, 1, s) # alternative\n",
    "        \n",
    "        # compute Kolmogorov-test statistic on generated data\n",
    "        ks2test_stat = scipy.stats.ks_2samp(g0, g1)\n",
    "        ks2pval = np.append(pval, ks2test_stat.pvalue)\n",
    "        \n",
    "        kstest_stat = scipy.stats.kstest(g0, 'uniform', args=(0,1))\n",
    "        kspval = np.append(pval, kstest_stat.pvalue)\n",
    "        \n",
    "    # record average p value at operating point\n",
    "    powks_alt = np.append(powks_alt, np.sum(1.0*(kspval < alpha))/N)\n",
    "    powks2_alt = np.append(powks2_alt, np.sum(1.0*(ks2pval < alpha))/N)"
   ]
  },
  {
   "cell_type": "code",
   "execution_count": 59,
   "metadata": {
    "collapsed": false
   },
   "outputs": [
    {
     "data": {
      "image/png": "[encoded data removed]",
      "text/plain": [
       "<matplotlib.figure.Figure at 0x11f741e90>"
      ]
     },
     "metadata": {},
     "output_type": "display_data"
    },
    {
     "data": {
      "image/png": "[encoded data removed]",
      "text/plain": [
       "<matplotlib.figure.Figure at 0x11f4dec10>"
      ]
     },
     "metadata": {},
     "output_type": "display_data"
    }
   ],
   "source": [
    "# Plotting power vs. n on the null set\n",
    "fig = plt.figure(figsize=(10,10))\n",
    "plt.subplot(312)\n",
    "plt.scatter(S, powks_null, hold=True, label='null')\n",
    "plt.scatter(S, powks_alt, color='green', hold=True, label='alt')\n",
    "plt.xscale('log')\n",
    "plt.xlabel('number of samples')\n",
    "plt.ylabel('power')\n",
    "plt.title('Strength of Uniform Classification under With Ks one sample test')\n",
    "plt.axhline(alpha, color='red', linestyle='--', label='alpha')\n",
    "plt.axvline(350, color='black', linestyle='--', label='n of our data')\n",
    "plt.axvline(227, color='black', linestyle='--', label='n of our data')\n",
    "plt.legend(loc=5)\n",
    "plt.show()\n",
    "\n",
    "# Plotting power vs. n on the null set\n",
    "fig = plt.figure(figsize=(10,10))\n",
    "plt.subplot(313)\n",
    "plt.scatter(S, powks2_null, hold=True, label='null')\n",
    "plt.scatter(S, powks2_alt, color='green', hold=True, label='alt')\n",
    "plt.xscale('log')\n",
    "plt.xlabel('number of samples')\n",
    "plt.ylabel('power')\n",
    "plt.title('Strength of Uniform Classification under With Ks two sample test')\n",
    "plt.axhline(alpha, color='red', linestyle='--', label='alpha')\n",
    "plt.axvline(350, color='black', linestyle='--', label='n of our data')\n",
    "plt.axvline(227, color='black', linestyle='--', label='n of our data')\n",
    "plt.legend(loc=5)\n",
    "plt.show()"
   ]
  },
  {
   "cell_type": "code",
   "execution_count": null,
   "metadata": {
    "collapsed": true
   },
   "outputs": [],
   "source": []
  }
 ],
 "metadata": {
  "kernelspec": {
   "display_name": "Python 2",
   "language": "python",
   "name": "python2"
  },
  "language_info": {
   "codemirror_mode": {
    "name": "ipython",
    "version": 2
   },
   "file_extension": ".py",
   "mimetype": "text/x-python",
   "name": "python",
   "nbconvert_exporter": "python",
   "pygments_lexer": "ipython2",
   "version": "2.7.11"
  }
 },
 "nbformat": 4,
 "nbformat_minor": 0
}
