{
 "cells": [
  {
   "cell_type": "code",
   "execution_count": 14,
   "metadata": {
    "collapsed": false
   },
   "outputs": [],
   "source": [
    "import json\n",
    "from os.path import join, dirname\n",
    "from watson_developer_cloud import SpeechToTextV1"
   ]
  },
  {
   "cell_type": "code",
   "execution_count": 27,
   "metadata": {
    "collapsed": false,
    "scrolled": true
   },
   "outputs": [
    {
     "name": "stdout",
     "output_type": "stream",
     "text": [
      "{\n",
      "  \"models\": [\n",
      "    {\n",
      "      \"url\": \"https://stream.watsonplatform.net/speech-to-text/api/v1/models/fr-FR_BroadbandModel\", \n",
      "      \"rate\": 16000, \n",
      "      \"name\": \"fr-FR_BroadbandModel\", \n",
      "      \"language\": \"fr-FR\", \n",
      "      \"description\": \"French broadband model.\"\n",
      "    }, \n",
      "    {\n",
      "      \"url\": \"https://stream.watsonplatform.net/speech-to-text/api/v1/models/en-US_NarrowbandModel\", \n",
      "      \"rate\": 8000, \n",
      "      \"name\": \"en-US_NarrowbandModel\", \n",
      "      \"language\": \"en-US\", \n",
      "      \"description\": \"US English narrowband model.\"\n",
      "    }, \n",
      "    {\n",
      "      \"url\": \"https://stream.watsonplatform.net/speech-to-text/api/v1/models/pt-BR_BroadbandModel\", \n",
      "      \"rate\": 16000, \n",
      "      \"name\": \"pt-BR_BroadbandModel\", \n",
      "      \"language\": \"pt-BR\", \n",
      "      \"description\": \"Brazilian Portuguese broadband model.\"\n",
      "    }, \n",
      "    {\n",
      "      \"url\": \"https://stream.watsonplatform.net/speech-to-text/api/v1/models/en-UK_BroadbandModel\", \n",
      "      \"rate\": 16000, \n",
      "      \"name\": \"en-UK_BroadbandModel\", \n",
      "      \"language\": \"en-UK\", \n",
      "      \"description\": \"UK English broadband model.\"\n",
      "    }, \n",
      "    {\n",
      "      \"url\": \"https://stream.watsonplatform.net/speech-to-text/api/v1/models/zh-CN_BroadbandModel\", \n",
      "      \"rate\": 16000, \n",
      "      \"name\": \"zh-CN_BroadbandModel\", \n",
      "      \"language\": \"zh-CN\", \n",
      "      \"description\": \"Mandarin broadband model.\"\n",
      "    }, \n",
      "    {\n",
      "      \"url\": \"https://stream.watsonplatform.net/speech-to-text/api/v1/models/ja-JP_BroadbandModel\", \n",
      "      \"rate\": 16000, \n",
      "      \"name\": \"ja-JP_BroadbandModel\", \n",
      "      \"language\": \"ja-JP\", \n",
      "      \"description\": \"Japanese broadband model.\"\n",
      "    }, \n",
      "    {\n",
      "      \"url\": \"https://stream.watsonplatform.net/speech-to-text/api/v1/models/pt-BR_NarrowbandModel\", \n",
      "      \"rate\": 8000, \n",
      "      \"name\": \"pt-BR_NarrowbandModel\", \n",
      "      \"language\": \"pt-BR\", \n",
      "      \"description\": \"Brazilian Portuguese narrowband model.\"\n",
      "    }, \n",
      "    {\n",
      "      \"url\": \"https://stream.watsonplatform.net/speech-to-text/api/v1/models/es-ES_BroadbandModel\", \n",
      "      \"rate\": 16000, \n",
      "      \"name\": \"es-ES_BroadbandModel\", \n",
      "      \"language\": \"es-ES\", \n",
      "      \"description\": \"Spanish broadband model.\"\n",
      "    }, \n",
      "    {\n",
      "      \"url\": \"https://stream.watsonplatform.net/speech-to-text/api/v1/models/ar-AR_BroadbandModel\", \n",
      "      \"rate\": 16000, \n",
      "      \"name\": \"ar-AR_BroadbandModel\", \n",
      "      \"language\": \"ar-AR\", \n",
      "      \"description\": \"Modern Standard Arabic broadband model.\"\n",
      "    }, \n",
      "    {\n",
      "      \"url\": \"https://stream.watsonplatform.net/speech-to-text/api/v1/models/zh-CN_NarrowbandModel\", \n",
      "      \"rate\": 8000, \n",
      "      \"name\": \"zh-CN_NarrowbandModel\", \n",
      "      \"language\": \"zh-CN\", \n",
      "      \"description\": \"Mandarin narrowband model.\"\n",
      "    }, \n",
      "    {\n",
      "      \"url\": \"https://stream.watsonplatform.net/speech-to-text/api/v1/models/ja-JP_NarrowbandModel\", \n",
      "      \"rate\": 8000, \n",
      "      \"name\": \"ja-JP_NarrowbandModel\", \n",
      "      \"language\": \"ja-JP\", \n",
      "      \"description\": \"Japanese narrowband model.\"\n",
      "    }, \n",
      "    {\n",
      "      \"url\": \"https://stream.watsonplatform.net/speech-to-text/api/v1/models/es-ES_NarrowbandModel\", \n",
      "      \"rate\": 8000, \n",
      "      \"name\": \"es-ES_NarrowbandModel\", \n",
      "      \"language\": \"es-ES\", \n",
      "      \"description\": \"Spanish narrowband model.\"\n",
      "    }, \n",
      "    {\n",
      "      \"url\": \"https://stream.watsonplatform.net/speech-to-text/api/v1/models/en-UK_NarrowbandModel\", \n",
      "      \"rate\": 8000, \n",
      "      \"name\": \"en-UK_NarrowbandModel\", \n",
      "      \"language\": \"en-UK\", \n",
      "      \"description\": \"UK English narrowband model.\"\n",
      "    }, \n",
      "    {\n",
      "      \"url\": \"https://stream.watsonplatform.net/speech-to-text/api/v1/models/en-US_BroadbandModel\", \n",
      "      \"rate\": 16000, \n",
      "      \"name\": \"en-US_BroadbandModel\", \n",
      "      \"language\": \"en-US\", \n",
      "      \"description\": \"US English broadband model.\"\n",
      "    }\n",
      "  ]\n",
      "}\n"
     ]
    }
   ],
   "source": [
    "## INITIALIZE MODEL\n",
    "speech_to_text = SpeechToTextV1(\n",
    "    url='https://stream.watsonplatform.net/speech-to-text/api',\n",
    "    username='x',\n",
    "    password='x'\n",
    ")\n",
    "\n",
    "keyWords=['BRICK', 'CLOCK', 'PANTS', 'GLASS', 'JUICE']\n",
    "\n",
    "# usa_speech_to_text = speech_to_text.models\n",
    "print(json.dumps(speech_to_text.models(), indent=2))"
   ]
  },
  {
   "cell_type": "code",
   "execution_count": 33,
   "metadata": {
    "collapsed": false
   },
   "outputs": [
    {
     "name": "stdout",
     "output_type": "stream",
     "text": [
      "{\n",
      "  \"results\": [\n",
      "    {\n",
      "      \"keywords_result\": {}, \n",
      "      \"alternatives\": [\n",
      "        {\n",
      "          \"timestamps\": [\n",
      "            [\n",
      "              \"clocks\", \n",
      "              3.43, \n",
      "              4.18\n",
      "            ]\n",
      "          ], \n",
      "          \"confidence\": 0.681, \n",
      "          \"transcript\": \"clocks \"\n",
      "        }\n",
      "      ], \n",
      "      \"final\": true\n",
      "    }\n",
      "  ], \n",
      "  \"result_index\": 0\n",
      "}\n"
     ]
    }
   ],
   "source": [
    "## OUTPUT FILE\n",
    "AUDIOFILE = '/Volumes/NIL_PASS/NIH034/behavioral/paRemap/session_1/blk0(1)_144329462.wav'\n",
    "with open(AUDIOFILE, 'rb') as audio_file:\n",
    "    test = speech_to_text.recognize(\n",
    "        audio=audio_file,\n",
    "        content_type='audio/wav',\n",
    "        model='en-US_NarrowbandModel',\n",
    "        keywords=['BRICK', 'CLOCK', 'PANTS', 'GLASS', 'JUICE'],\n",
    "        keywords_threshold=0.1,\n",
    "        timestamps=True\n",
    "    )\n",
    "    \n",
    "    print json.dumps(test, indent=2)\n"
   ]
  },
  {
   "cell_type": "code",
   "execution_count": null,
   "metadata": {
    "collapsed": true
   },
   "outputs": [],
   "source": []
  }
 ],
 "metadata": {
  "kernelspec": {
   "display_name": "Python 2",
   "language": "python",
   "name": "python2"
  },
  "language_info": {
   "codemirror_mode": {
    "name": "ipython",
    "version": 2
   },
   "file_extension": ".py",
   "mimetype": "text/x-python",
   "name": "python",
   "nbconvert_exporter": "python",
   "pygments_lexer": "ipython2",
   "version": "2.7.11"
  }
 },
 "nbformat": 4,
 "nbformat_minor": 0
}
